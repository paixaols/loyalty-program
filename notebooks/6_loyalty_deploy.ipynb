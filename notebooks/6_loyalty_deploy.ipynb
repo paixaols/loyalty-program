{
 "cells": [
  {
   "cell_type": "markdown",
   "id": "36c0b231",
   "metadata": {
    "heading_collapsed": true
   },
   "source": [
    "# Import"
   ]
  },
  {
   "cell_type": "code",
   "execution_count": 1,
   "id": "46dcd87c",
   "metadata": {
    "ExecuteTime": {
     "end_time": "2022-01-11T13:31:11.816980Z",
     "start_time": "2022-01-11T13:31:02.889846Z"
    },
    "hidden": true
   },
   "outputs": [],
   "source": [
    "import matplotlib.pyplot as plt\n",
    "import numpy as np\n",
    "import pandas as pd\n",
    "import pickle\n",
    "import seaborn as sns\n",
    "import umap.umap_ as umap\n",
    "\n",
    "from math import ceil\n",
    "from matplotlib import cm\n",
    "from plotly import express as px\n",
    "from scipy.cluster import hierarchy as hc\n",
    "from sklearn.metrics import silhouette_score, silhouette_samples\n",
    "from sklearn.preprocessing import MinMaxScaler\n",
    "from sqlalchemy import create_engine"
   ]
  },
  {
   "cell_type": "markdown",
   "id": "bcc5d115",
   "metadata": {
    "heading_collapsed": true,
    "hidden": true
   },
   "source": [
    "## Funções de suporte"
   ]
  },
  {
   "cell_type": "code",
   "execution_count": 2,
   "id": "798fdb1a",
   "metadata": {
    "ExecuteTime": {
     "end_time": "2022-01-11T13:31:11.832982Z",
     "start_time": "2022-01-11T13:31:11.818980Z"
    },
    "hidden": true
   },
   "outputs": [],
   "source": [
    "def data_summary(num_attributes):\n",
    "    # Central tendency - mean, median\n",
    "    tc1 = pd.DataFrame(num_attributes.apply(np.mean)).T\n",
    "    tc2 = pd.DataFrame(num_attributes.apply(np.median)).T\n",
    "    \n",
    "    # Variability - std, coefficient of variation, min, max, range, skew, kurtosis\n",
    "    d1 = pd.DataFrame(num_attributes.apply(min)).T\n",
    "    d2 = pd.DataFrame(num_attributes.apply(max)).T\n",
    "    d3 = pd.DataFrame(num_attributes.apply(lambda x: x.max()-x.min())).T\n",
    "    d4 = pd.DataFrame(num_attributes.apply(np.std)).T\n",
    "    d5 = pd.DataFrame(num_attributes.apply(lambda x: x.skew())).T\n",
    "    d6 = pd.DataFrame(num_attributes.apply(lambda x: x.kurtosis())).T\n",
    "    d7 = d4/tc1# cv\n",
    "    \n",
    "    # Concatenate\n",
    "    s = pd.concat([d1, d2, d3, tc1, tc2, d4, d7, d5, d6]).T.reset_index()\n",
    "    s.columns = ['columns', 'min', 'max', 'range', 'mean', 'median', 'std', 'cv', 'skew', 'kurtosis']\n",
    "\n",
    "    return s"
   ]
  },
  {
   "cell_type": "markdown",
   "id": "74004042",
   "metadata": {
    "heading_collapsed": true,
    "hidden": true
   },
   "source": [
    "## Importar dados"
   ]
  },
  {
   "cell_type": "code",
   "execution_count": 3,
   "id": "f3b91011",
   "metadata": {
    "ExecuteTime": {
     "end_time": "2022-01-11T13:31:12.592036Z",
     "start_time": "2022-01-11T13:31:11.837982Z"
    },
    "hidden": true
   },
   "outputs": [],
   "source": [
    "path_local = '../data/raw/'\n",
    "df_raw = pd.read_csv(path_local+'Ecommerce.csv', encoding = 'latin-1')\n",
    "\n",
    "# path_s3 = 's3://insiders-dataset/'\n",
    "# df_raw = pd.read_csv(path_s3+'Ecommerce.csv', encoding = 'iso-8859-1')\n",
    "\n",
    "df_raw.drop('Unnamed: 8', axis = 1, inplace = True)"
   ]
  },
  {
   "cell_type": "markdown",
   "id": "3376f48b",
   "metadata": {
    "heading_collapsed": true
   },
   "source": [
    "# 1 Descrição dos dados"
   ]
  },
  {
   "cell_type": "code",
   "execution_count": 4,
   "id": "eb4c17e7",
   "metadata": {
    "ExecuteTime": {
     "end_time": "2022-01-11T13:31:12.623039Z",
     "start_time": "2022-01-11T13:31:12.595041Z"
    },
    "hidden": true
   },
   "outputs": [],
   "source": [
    "df1 = df_raw.copy()"
   ]
  },
  {
   "cell_type": "markdown",
   "id": "8bae76bc",
   "metadata": {
    "heading_collapsed": true,
    "hidden": true
   },
   "source": [
    "## 1.1 Renomear colunas"
   ]
  },
  {
   "cell_type": "code",
   "execution_count": 5,
   "id": "7b3b3fdc",
   "metadata": {
    "ExecuteTime": {
     "end_time": "2022-01-11T13:31:12.639043Z",
     "start_time": "2022-01-11T13:31:12.625039Z"
    },
    "hidden": true
   },
   "outputs": [],
   "source": [
    "cols = ['invoice', 'stock_code', 'description', 'quantity', 'invoice_date', 'unit_price', 'customer_id', 'country']\n",
    "df1.columns = cols"
   ]
  },
  {
   "cell_type": "code",
   "execution_count": 6,
   "id": "a0c6e194",
   "metadata": {
    "ExecuteTime": {
     "end_time": "2022-01-11T13:31:12.655040Z",
     "start_time": "2022-01-11T13:31:12.641041Z"
    },
    "hidden": true
   },
   "outputs": [
    {
     "data": {
      "text/plain": [
       "Index(['invoice', 'stock_code', 'description', 'quantity', 'invoice_date',\n",
       "       'unit_price', 'customer_id', 'country'],\n",
       "      dtype='object')"
      ]
     },
     "execution_count": 6,
     "metadata": {},
     "output_type": "execute_result"
    }
   ],
   "source": [
    "df1.columns"
   ]
  },
  {
   "cell_type": "markdown",
   "id": "637976bb",
   "metadata": {
    "heading_collapsed": true,
    "hidden": true
   },
   "source": [
    "## 1.2 Dimensão dos dados"
   ]
  },
  {
   "cell_type": "code",
   "execution_count": 7,
   "id": "8620f92f",
   "metadata": {
    "ExecuteTime": {
     "end_time": "2022-01-11T13:31:12.671042Z",
     "start_time": "2022-01-11T13:31:12.657043Z"
    },
    "hidden": true
   },
   "outputs": [
    {
     "name": "stdout",
     "output_type": "stream",
     "text": [
      "Número de linhas: 541909\n",
      "Número de colunas: 8\n"
     ]
    }
   ],
   "source": [
    "print('Número de linhas: {}'.format(df1.shape[0]))\n",
    "print('Número de colunas: {}'.format(df1.shape[1]))"
   ]
  },
  {
   "cell_type": "markdown",
   "id": "48a845e9",
   "metadata": {
    "heading_collapsed": true,
    "hidden": true
   },
   "source": [
    "## 1.3 Tratar os NAs"
   ]
  },
  {
   "cell_type": "code",
   "execution_count": 8,
   "id": "858a746d",
   "metadata": {
    "ExecuteTime": {
     "end_time": "2022-01-11T13:31:12.893058Z",
     "start_time": "2022-01-11T13:31:12.673046Z"
    },
    "hidden": true
   },
   "outputs": [],
   "source": [
    "df1['description'].fillna('-', inplace = True)\n",
    "df1.dropna(inplace = True)"
   ]
  },
  {
   "cell_type": "code",
   "execution_count": 9,
   "id": "78d44f45",
   "metadata": {
    "ExecuteTime": {
     "end_time": "2022-01-11T13:31:12.986984Z",
     "start_time": "2022-01-11T13:31:12.894059Z"
    },
    "hidden": true
   },
   "outputs": [
    {
     "data": {
      "text/plain": [
       "invoice         0\n",
       "stock_code      0\n",
       "description     0\n",
       "quantity        0\n",
       "invoice_date    0\n",
       "unit_price      0\n",
       "customer_id     0\n",
       "country         0\n",
       "dtype: int64"
      ]
     },
     "execution_count": 9,
     "metadata": {},
     "output_type": "execute_result"
    }
   ],
   "source": [
    "df1.isna().sum()"
   ]
  },
  {
   "cell_type": "code",
   "execution_count": 10,
   "id": "f9e948d5",
   "metadata": {
    "ExecuteTime": {
     "end_time": "2022-01-11T13:31:13.002986Z",
     "start_time": "2022-01-11T13:31:12.990986Z"
    },
    "hidden": true
   },
   "outputs": [
    {
     "name": "stdout",
     "output_type": "stream",
     "text": [
      "Dados removidos: 24.9%\n"
     ]
    }
   ],
   "source": [
    "print('Dados removidos: {:.1f}%'.format(100*(1-df1.shape[0]/df_raw.shape[0])))"
   ]
  },
  {
   "cell_type": "markdown",
   "id": "7e147dff",
   "metadata": {
    "heading_collapsed": true,
    "hidden": true
   },
   "source": [
    "## 1.4 Tipo dos dados"
   ]
  },
  {
   "cell_type": "code",
   "execution_count": 11,
   "id": "37af94fc",
   "metadata": {
    "ExecuteTime": {
     "end_time": "2022-01-11T13:31:13.082299Z",
     "start_time": "2022-01-11T13:31:13.005986Z"
    },
    "hidden": true
   },
   "outputs": [],
   "source": [
    "df1['invoice_date'] = pd.to_datetime(df1['invoice_date'], format = '%d-%b-%y')\n",
    "df1['customer_id'] = df1['customer_id'].astype(int)"
   ]
  },
  {
   "cell_type": "code",
   "execution_count": 12,
   "id": "ebe14972",
   "metadata": {
    "ExecuteTime": {
     "end_time": "2022-01-11T13:31:13.096287Z",
     "start_time": "2022-01-11T13:31:13.084285Z"
    },
    "hidden": true
   },
   "outputs": [
    {
     "data": {
      "text/plain": [
       "invoice                 object\n",
       "stock_code              object\n",
       "description             object\n",
       "quantity                 int64\n",
       "invoice_date    datetime64[ns]\n",
       "unit_price             float64\n",
       "customer_id              int32\n",
       "country                 object\n",
       "dtype: object"
      ]
     },
     "execution_count": 12,
     "metadata": {},
     "output_type": "execute_result"
    }
   ],
   "source": [
    "df1.dtypes"
   ]
  },
  {
   "cell_type": "markdown",
   "id": "a96f1cd1",
   "metadata": {
    "heading_collapsed": true,
    "hidden": true
   },
   "source": [
    "## 1.5 Estatística descritiva"
   ]
  },
  {
   "cell_type": "code",
   "execution_count": 13,
   "id": "a09da1e0",
   "metadata": {
    "ExecuteTime": {
     "end_time": "2022-01-11T13:31:13.128288Z",
     "start_time": "2022-01-11T13:31:13.098290Z"
    },
    "hidden": true
   },
   "outputs": [],
   "source": [
    "num_attributes = df1[['quantity', 'unit_price']]\n",
    "cat_attributes = df1[['invoice', 'stock_code', 'description', 'customer_id', 'country']]"
   ]
  },
  {
   "cell_type": "markdown",
   "id": "db0869f2",
   "metadata": {
    "heading_collapsed": true,
    "hidden": true
   },
   "source": [
    "### 1.5.1 Atributos numéricos"
   ]
  },
  {
   "cell_type": "code",
   "execution_count": 14,
   "id": "84ee92bf",
   "metadata": {
    "ExecuteTime": {
     "end_time": "2022-01-11T13:31:13.349833Z",
     "start_time": "2022-01-11T13:31:13.130290Z"
    },
    "hidden": true
   },
   "outputs": [
    {
     "data": {
      "text/html": [
       "<div>\n",
       "<style scoped>\n",
       "    .dataframe tbody tr th:only-of-type {\n",
       "        vertical-align: middle;\n",
       "    }\n",
       "\n",
       "    .dataframe tbody tr th {\n",
       "        vertical-align: top;\n",
       "    }\n",
       "\n",
       "    .dataframe thead th {\n",
       "        text-align: right;\n",
       "    }\n",
       "</style>\n",
       "<table border=\"1\" class=\"dataframe\">\n",
       "  <thead>\n",
       "    <tr style=\"text-align: right;\">\n",
       "      <th></th>\n",
       "      <th>columns</th>\n",
       "      <th>min</th>\n",
       "      <th>max</th>\n",
       "      <th>range</th>\n",
       "      <th>mean</th>\n",
       "      <th>median</th>\n",
       "      <th>std</th>\n",
       "      <th>cv</th>\n",
       "      <th>skew</th>\n",
       "      <th>kurtosis</th>\n",
       "    </tr>\n",
       "  </thead>\n",
       "  <tbody>\n",
       "    <tr>\n",
       "      <th>0</th>\n",
       "      <td>quantity</td>\n",
       "      <td>-80995.0</td>\n",
       "      <td>80995.0</td>\n",
       "      <td>161990.0</td>\n",
       "      <td>12.061303</td>\n",
       "      <td>5.00</td>\n",
       "      <td>248.693064</td>\n",
       "      <td>20.619087</td>\n",
       "      <td>0.182663</td>\n",
       "      <td>94317.563673</td>\n",
       "    </tr>\n",
       "    <tr>\n",
       "      <th>1</th>\n",
       "      <td>unit_price</td>\n",
       "      <td>0.0</td>\n",
       "      <td>38970.0</td>\n",
       "      <td>38970.0</td>\n",
       "      <td>3.460471</td>\n",
       "      <td>1.95</td>\n",
       "      <td>69.315077</td>\n",
       "      <td>20.030532</td>\n",
       "      <td>452.219019</td>\n",
       "      <td>246924.542988</td>\n",
       "    </tr>\n",
       "  </tbody>\n",
       "</table>\n",
       "</div>"
      ],
      "text/plain": [
       "      columns      min      max     range       mean  median         std  \\\n",
       "0    quantity -80995.0  80995.0  161990.0  12.061303    5.00  248.693064   \n",
       "1  unit_price      0.0  38970.0   38970.0   3.460471    1.95   69.315077   \n",
       "\n",
       "          cv        skew       kurtosis  \n",
       "0  20.619087    0.182663   94317.563673  \n",
       "1  20.030532  452.219019  246924.542988  "
      ]
     },
     "execution_count": 14,
     "metadata": {},
     "output_type": "execute_result"
    }
   ],
   "source": [
    "data_summary(num_attributes)"
   ]
  },
  {
   "cell_type": "markdown",
   "id": "b6d210d2",
   "metadata": {
    "heading_collapsed": true,
    "hidden": true
   },
   "source": [
    "### 1.5.2 Atributos categóricos"
   ]
  },
  {
   "cell_type": "code",
   "execution_count": 15,
   "id": "b3eb93a1",
   "metadata": {
    "ExecuteTime": {
     "end_time": "2022-01-11T13:31:13.507999Z",
     "start_time": "2022-01-11T13:31:13.353834Z"
    },
    "hidden": true
   },
   "outputs": [
    {
     "data": {
      "text/plain": [
       "invoice        22190\n",
       "stock_code      3684\n",
       "description     3896\n",
       "customer_id     4372\n",
       "country           37\n",
       "dtype: int64"
      ]
     },
     "execution_count": 15,
     "metadata": {},
     "output_type": "execute_result"
    }
   ],
   "source": [
    "cat_attributes.apply(lambda x: x.nunique())"
   ]
  },
  {
   "cell_type": "markdown",
   "id": "c57d6c98",
   "metadata": {
    "heading_collapsed": true
   },
   "source": [
    "# 2 Filtragem das variáveis"
   ]
  },
  {
   "cell_type": "code",
   "execution_count": 16,
   "id": "def4ea32",
   "metadata": {
    "ExecuteTime": {
     "end_time": "2022-01-11T13:31:13.539006Z",
     "start_time": "2022-01-11T13:31:13.509999Z"
    },
    "hidden": true
   },
   "outputs": [],
   "source": [
    "df2 = df1.copy()"
   ]
  },
  {
   "cell_type": "markdown",
   "id": "38ffbe59",
   "metadata": {
    "heading_collapsed": true,
    "hidden": true
   },
   "source": [
    "## 2.1 Stock code"
   ]
  },
  {
   "cell_type": "code",
   "execution_count": 17,
   "id": "bc03686c",
   "metadata": {
    "ExecuteTime": {
     "end_time": "2022-01-11T13:31:13.555016Z",
     "start_time": "2022-01-11T13:31:13.540005Z"
    },
    "hidden": true
   },
   "outputs": [],
   "source": [
    "size_of_data = len(df2)"
   ]
  },
  {
   "cell_type": "code",
   "execution_count": 18,
   "id": "e530887c",
   "metadata": {
    "ExecuteTime": {
     "end_time": "2022-01-11T13:31:13.634023Z",
     "start_time": "2022-01-11T13:31:13.556015Z"
    },
    "hidden": true
   },
   "outputs": [],
   "source": [
    "# Remover stock code M, POST, PADS, DOT, CRUK\n",
    "bad_code = ['POST', 'D', 'DOT', 'M', 'S', 'AMAZONFEE', 'm', 'DCGSSBOY', 'DCGSSGIRL', 'PADS', 'B', 'CRUK']\n",
    "df2 = df2[~df2['stock_code'].isin(bad_code)]"
   ]
  },
  {
   "cell_type": "markdown",
   "id": "ad78f968",
   "metadata": {
    "heading_collapsed": true,
    "hidden": true
   },
   "source": [
    "## 2.2 Quantity & price"
   ]
  },
  {
   "cell_type": "code",
   "execution_count": 19,
   "id": "21a5875f",
   "metadata": {
    "ExecuteTime": {
     "end_time": "2022-01-11T13:31:13.713740Z",
     "start_time": "2022-01-11T13:31:13.636025Z"
    },
    "hidden": true
   },
   "outputs": [],
   "source": [
    "# Remover quantidades negativas dos clientes não identificados\n",
    "df2 = df2.drop(df2[(df2['quantity'] < 0) & (df2['customer_id'] >= 19000)].index)"
   ]
  },
  {
   "cell_type": "code",
   "execution_count": 20,
   "id": "b75d441e",
   "metadata": {
    "ExecuteTime": {
     "end_time": "2022-01-11T13:31:13.777298Z",
     "start_time": "2022-01-11T13:31:13.715743Z"
    },
    "hidden": true
   },
   "outputs": [],
   "source": [
    "# Remover itens com preço zero\n",
    "df2 = df2[df2['unit_price'] > 0]"
   ]
  },
  {
   "cell_type": "markdown",
   "id": "c78b05fc",
   "metadata": {
    "heading_collapsed": true,
    "hidden": true
   },
   "source": [
    "## 2.3 Description"
   ]
  },
  {
   "cell_type": "code",
   "execution_count": 21,
   "id": "c0f10775",
   "metadata": {
    "ExecuteTime": {
     "end_time": "2022-01-11T13:31:13.888306Z",
     "start_time": "2022-01-11T13:31:13.780299Z"
    },
    "hidden": true
   },
   "outputs": [
    {
     "data": {
      "text/plain": [
       "array(['CARRIAGE'], dtype=object)"
      ]
     },
     "execution_count": 21,
     "metadata": {},
     "output_type": "execute_result"
    }
   ],
   "source": [
    "df2.loc[df2['description'].apply(lambda x: x.isalpha()), 'description'].unique()"
   ]
  },
  {
   "cell_type": "code",
   "execution_count": 22,
   "id": "1f3d6d29",
   "metadata": {
    "ExecuteTime": {
     "end_time": "2022-01-11T13:31:13.967363Z",
     "start_time": "2022-01-11T13:31:13.890306Z"
    },
    "hidden": true
   },
   "outputs": [],
   "source": [
    "# Remover description CARRIAGE\n",
    "df2 = df2[df2['description'] != 'CARRIAGE']"
   ]
  },
  {
   "cell_type": "markdown",
   "id": "8a11c905",
   "metadata": {
    "heading_collapsed": true,
    "hidden": true
   },
   "source": [
    "## 2.4 Customer id"
   ]
  },
  {
   "cell_type": "code",
   "execution_count": 23,
   "id": "79451b27",
   "metadata": {
    "ExecuteTime": {
     "end_time": "2022-01-11T13:31:14.028543Z",
     "start_time": "2022-01-11T13:31:13.969364Z"
    },
    "hidden": true
   },
   "outputs": [],
   "source": [
    "# Clientes cujos id possuem mais registros de devolução do que compra.\n",
    "bad_customers = [12605, 12666, 12870, 12943, 13693, \n",
    "                 13829, 13958, 14119, 14213, 14627, \n",
    "                 14679, 14777, 15638, 15728, 16061, \n",
    "                 16138, 16252, 16262, 16428, 16579, \n",
    "                 16742, 16995, 17307, 17547, 17820, \n",
    "                 18141, 18256, 15823, 17548, 16546, 12346, 16446]\n",
    "df2 = df2[~df2['customer_id'].isin(bad_customers)]"
   ]
  },
  {
   "cell_type": "markdown",
   "id": "35292899",
   "metadata": {
    "heading_collapsed": true,
    "hidden": true
   },
   "source": [
    "## 2.5 Dados filtrados"
   ]
  },
  {
   "cell_type": "code",
   "execution_count": 24,
   "id": "ee145e01",
   "metadata": {
    "ExecuteTime": {
     "end_time": "2022-01-11T13:31:14.044544Z",
     "start_time": "2022-01-11T13:31:14.030543Z"
    },
    "hidden": true
   },
   "outputs": [
    {
     "name": "stdout",
     "output_type": "stream",
     "text": [
      "Dados removidos: 0.5%\n",
      "Número de linhas: 404734\n"
     ]
    }
   ],
   "source": [
    "print('Dados removidos: {:.1f}%'.format(100*(1-df2.shape[0]/size_of_data)))\n",
    "print('Número de linhas: {}'.format(df2.shape[0]))"
   ]
  },
  {
   "cell_type": "markdown",
   "id": "30599347",
   "metadata": {
    "heading_collapsed": true
   },
   "source": [
    "# 3 Feature engineering"
   ]
  },
  {
   "cell_type": "code",
   "execution_count": 25,
   "id": "a09946a3",
   "metadata": {
    "ExecuteTime": {
     "end_time": "2022-01-11T13:31:14.075558Z",
     "start_time": "2022-01-11T13:31:14.045545Z"
    },
    "hidden": true
   },
   "outputs": [],
   "source": [
    "df3 = df2.copy()"
   ]
  },
  {
   "cell_type": "markdown",
   "id": "34ec609b",
   "metadata": {
    "heading_collapsed": true,
    "hidden": true
   },
   "source": [
    "## 3.1 Criação das variáveis"
   ]
  },
  {
   "cell_type": "code",
   "execution_count": 26,
   "id": "2ab56798",
   "metadata": {
    "ExecuteTime": {
     "end_time": "2022-01-11T13:31:14.409222Z",
     "start_time": "2022-01-11T13:31:14.077559Z"
    },
    "hidden": true
   },
   "outputs": [],
   "source": [
    "purchases = df3[~df3['invoice'].str.startswith('C')]\n",
    "charge_back = df3[df3['invoice'].str.startswith('C')]"
   ]
  },
  {
   "cell_type": "code",
   "execution_count": 27,
   "id": "63f2e49e",
   "metadata": {
    "ExecuteTime": {
     "end_time": "2022-01-11T13:31:14.979036Z",
     "start_time": "2022-01-11T13:31:14.411225Z"
    },
    "hidden": true
   },
   "outputs": [
    {
     "name": "stderr",
     "output_type": "stream",
     "text": [
      "C:\\Users\\lucas\\AppData\\Local\\Temp/ipykernel_24752/452718975.py:2: SettingWithCopyWarning: \n",
      "A value is trying to be set on a copy of a slice from a DataFrame.\n",
      "Try using .loc[row_indexer,col_indexer] = value instead\n",
      "\n",
      "See the caveats in the documentation: https://pandas.pydata.org/pandas-docs/stable/user_guide/indexing.html#returning-a-view-versus-a-copy\n",
      "  purchases['price'] = purchases['quantity']*purchases['unit_price']\n",
      "C:\\Users\\lucas\\AppData\\Local\\Temp/ipykernel_24752/452718975.py:3: SettingWithCopyWarning: \n",
      "A value is trying to be set on a copy of a slice from a DataFrame.\n",
      "Try using .loc[row_indexer,col_indexer] = value instead\n",
      "\n",
      "See the caveats in the documentation: https://pandas.pydata.org/pandas-docs/stable/user_guide/indexing.html#returning-a-view-versus-a-copy\n",
      "  charge_back['price'] = charge_back['quantity']*charge_back['unit_price']\n"
     ]
    }
   ],
   "source": [
    "# Revenue\n",
    "purchases['price'] = purchases['quantity']*purchases['unit_price']\n",
    "charge_back['price'] = charge_back['quantity']*charge_back['unit_price']\n",
    "df_customer = purchases[['customer_id', 'price']].groupby('customer_id').sum().reset_index().rename(columns = {'price': 'revenue'})\n",
    "\n",
    "# # Return\n",
    "# aux = charge_back[['customer_id', 'price']].groupby('customer_id').sum().reset_index().rename(columns = {'price': 'return'})\n",
    "# df_customer = df_customer.merge(aux, how = 'left', on = 'customer_id')\n",
    "# df_customer['return'].fillna(0, inplace = True)\n",
    "\n",
    "# Invoices - number of purchases\n",
    "aux = purchases[['customer_id', 'invoice']].groupby('customer_id').nunique().reset_index().rename(columns = {'invoice': 'invoices'})\n",
    "df_customer = df_customer.merge(aux, how = 'left', on = 'customer_id')\n",
    "\n",
    "# Invoices return\n",
    "aux = charge_back[['customer_id', 'invoice']].groupby('customer_id').nunique().reset_index().rename(columns = {'invoice': 'invoices_return'})\n",
    "df_customer = df_customer.merge(aux, how = 'left', on = 'customer_id')\n",
    "df_customer['invoices_return'].fillna(0, inplace = True)\n",
    "\n",
    "# Last invoice date\n",
    "aux = purchases[['customer_id', 'invoice_date']].groupby('customer_id').max().reset_index().rename(columns = {'invoice_date': 'last_date'})\n",
    "df_customer = df_customer.merge(aux, how = 'left', on = 'customer_id')\n",
    "\n",
    "# Recency - days since last purchase\n",
    "ref_date = df_customer['last_date'].max()\n",
    "df_customer['recency'] = df_customer['last_date'].apply(lambda x: (ref_date-x).days)\n",
    "\n",
    "# Average recency\n",
    "aux = purchases[['customer_id', 'invoice_date']].groupby('customer_id').min().reset_index().rename(columns = {'invoice_date': 'first_purch'})\n",
    "df_customer = df_customer.merge(aux, how = 'left', on = 'customer_id')\n",
    "df_customer['avg_recency'] = df_customer.apply(lambda x: (ref_date-x['first_purch']).days/x['invoices'], axis = 1)\n",
    "\n",
    "# Average ticket\n",
    "df_purch = purchases[['customer_id', 'invoice', 'price', 'quantity']].groupby(['customer_id', 'invoice']).sum().reset_index()\n",
    "df_customer['avg_ticket'] = df_purch.groupby('customer_id').mean().reset_index()['price']\n",
    "\n",
    "# # Low purch\n",
    "# df_customer['low_purch'] = df_purch.groupby('customer_id').min().reset_index()['price']\n",
    "\n",
    "# # High purch\n",
    "# df_customer['high_purch'] = df_purch.groupby('customer_id').max().reset_index()['price']\n",
    "\n",
    "# Mean basket size\n",
    "df_customer['basket_size'] = df_purch.groupby('customer_id').mean().reset_index()['quantity']\n",
    "\n",
    "# # Country\n",
    "# customers = purchases['customer_id'].unique()\n",
    "# country = []\n",
    "# for customer in customers:\n",
    "#     aux = purchases.loc[purchases['customer_id'] == customer]\n",
    "#     last_date = aux['invoice_date'].max()\n",
    "#     country.append(aux[aux['invoice_date'] == last_date]['country'].iloc[0])\n",
    "# df_country = pd.DataFrame({'customer_id': customers, 'country': country})\n",
    "# df_customer = df_customer.merge(df_country, how = 'left', on = 'customer_id')"
   ]
  },
  {
   "cell_type": "code",
   "execution_count": 28,
   "id": "5d390f7a",
   "metadata": {
    "ExecuteTime": {
     "end_time": "2022-01-11T13:31:15.503565Z",
     "start_time": "2022-01-11T13:31:14.984038Z"
    },
    "hidden": true
   },
   "outputs": [],
   "source": [
    "# # Low unit price\n",
    "# auxgroup = df3[['customer_id', 'unit_price']].groupby('customer_id')\n",
    "# aux = auxgroup.min().reset_index().rename(columns = {'unit_price': 'low_unit_price'})\n",
    "# df_customer = df_customer.merge(aux, how = 'left', on = 'customer_id')\n",
    "\n",
    "# # High unit price\n",
    "# aux = auxgroup.max().reset_index().rename(columns = {'unit_price': 'high_unit_price'})\n",
    "# df_customer = df_customer.merge(aux, how = 'left', on = 'customer_id')\n",
    "\n",
    "# # Avg unit price\n",
    "# aux = auxgroup.mean().reset_index().rename(columns = {'unit_price': 'avg_unit_price'})\n",
    "# df_customer = df_customer.merge(aux, how = 'left', on = 'customer_id')\n",
    "\n",
    "# # Product variety\n",
    "# aux = df3[['customer_id', 'stock_code']].groupby('customer_id').nunique().reset_index().rename(columns = {'stock_code': 'product_variety'})\n",
    "# df_customer = df_customer.merge(aux, how = 'left', on = 'customer_id')\n",
    "\n",
    "# Vintage\n",
    "df_customer['vintage'] = df_customer.apply(lambda x: (ref_date-x['first_purch']).days/30, axis = 1)\n",
    "df_customer['vintage'] = df_customer['vintage'].apply(ceil)\n",
    "\n",
    "# Monthly invoices\n",
    "df_customer['monthly_invoices'] = df_customer.apply(lambda x: x['invoices'] if x['vintage'] == 0 \n",
    "                                                    else x['invoices']/x['vintage'], axis = 1)\n",
    "\n",
    "# Monthly revenue\n",
    "df_customer['monthly_revenue'] = df_customer.apply(lambda x: x['revenue'] if x['vintage'] == 0 \n",
    "                                                    else x['revenue']/x['vintage'], axis = 1)"
   ]
  },
  {
   "cell_type": "code",
   "execution_count": 29,
   "id": "7e6e9001",
   "metadata": {
    "ExecuteTime": {
     "end_time": "2022-01-11T13:31:15.519642Z",
     "start_time": "2022-01-11T13:31:15.505216Z"
    },
    "hidden": true
   },
   "outputs": [
    {
     "data": {
      "text/plain": [
       "customer_id         0\n",
       "revenue             0\n",
       "invoices            0\n",
       "invoices_return     0\n",
       "last_date           0\n",
       "recency             0\n",
       "first_purch         0\n",
       "avg_recency         0\n",
       "avg_ticket          0\n",
       "basket_size         0\n",
       "vintage             0\n",
       "monthly_invoices    0\n",
       "monthly_revenue     0\n",
       "dtype: int64"
      ]
     },
     "execution_count": 29,
     "metadata": {},
     "output_type": "execute_result"
    }
   ],
   "source": [
    "df_customer.isna().sum()"
   ]
  },
  {
   "cell_type": "code",
   "execution_count": 30,
   "id": "2b837cb5",
   "metadata": {
    "ExecuteTime": {
     "end_time": "2022-01-11T13:31:15.535643Z",
     "start_time": "2022-01-11T13:31:15.521643Z"
    },
    "hidden": true
   },
   "outputs": [],
   "source": [
    "df_customer['invoices_return'] = df_customer['invoices_return'].astype(int)"
   ]
  },
  {
   "cell_type": "code",
   "execution_count": 31,
   "id": "c3a0640e",
   "metadata": {
    "ExecuteTime": {
     "end_time": "2022-01-11T13:31:15.551645Z",
     "start_time": "2022-01-11T13:31:15.537643Z"
    },
    "hidden": true
   },
   "outputs": [],
   "source": [
    "df3 = df_customer.drop(columns = ['last_date', 'first_purch']).copy()"
   ]
  },
  {
   "cell_type": "markdown",
   "id": "8a629b16",
   "metadata": {
    "heading_collapsed": true
   },
   "source": [
    "# 5 Preparação dos dados"
   ]
  },
  {
   "cell_type": "code",
   "execution_count": 42,
   "id": "db91cfc6",
   "metadata": {
    "ExecuteTime": {
     "end_time": "2022-01-11T14:04:17.404586Z",
     "start_time": "2022-01-11T14:04:17.392519Z"
    },
    "hidden": true
   },
   "outputs": [],
   "source": [
    "df5 = df3.copy()"
   ]
  },
  {
   "cell_type": "markdown",
   "id": "f5ce4775",
   "metadata": {
    "heading_collapsed": true,
    "hidden": true
   },
   "source": [
    "## 5.2 Rescaling"
   ]
  },
  {
   "cell_type": "code",
   "execution_count": 43,
   "id": "bdb9b64a",
   "metadata": {
    "ExecuteTime": {
     "end_time": "2022-01-11T14:06:47.188918Z",
     "start_time": "2022-01-11T14:06:47.131083Z"
    },
    "hidden": true
   },
   "outputs": [],
   "source": [
    "mm = MinMaxScaler()\n",
    "\n",
    "# revenue\n",
    "df5['revenue'] = mm.fit_transform(df5[['revenue']].values)\n",
    "pickle.dump(mm, open('../src/features/revenue_scaler.pkl', 'wb'))\n",
    "\n",
    "# invoices\n",
    "df5['invoices'] = mm.fit_transform(df5[['invoices']].values)\n",
    "pickle.dump(mm, open('../src/features/invoices_scaler.pkl', 'wb'))\n",
    "\n",
    "# invoices_return\n",
    "df5['invoices_return'] = mm.fit_transform(df5[['invoices_return']].values)\n",
    "pickle.dump(mm, open('../src/features/invoices_return_scaler.pkl', 'wb'))\n",
    "\n",
    "# recency\n",
    "df5['recency'] = mm.fit_transform(df5[['recency']].values)\n",
    "pickle.dump(mm, open('../src/features/recency_scaler.pkl', 'wb'))\n",
    "\n",
    "# avg_recency\n",
    "df5['avg_recency'] = mm.fit_transform(df5[['avg_recency']].values)\n",
    "pickle.dump(mm, open('../src/features/avg_recency_scaler.pkl', 'wb'))\n",
    "\n",
    "# avg_ticket\n",
    "df5['avg_ticket'] = mm.fit_transform(df5[['avg_ticket']].values)\n",
    "pickle.dump(mm, open('../src/features/avg_ticket_scaler.pkl', 'wb'))\n",
    "\n",
    "# basket_size\n",
    "df5['basket_size'] = mm.fit_transform(df5[['basket_size']].values)\n",
    "pickle.dump(mm, open('../src/features/basket_size_scaler.pkl', 'wb'))\n",
    "\n",
    "# vintage\n",
    "df5['vintage'] = mm.fit_transform(df5[['vintage']].values)\n",
    "pickle.dump(mm, open('../src/features/vintage_scaler.pkl', 'wb'))\n",
    "\n",
    "# monthly_invoices\n",
    "df5['monthly_invoices'] = mm.fit_transform(df5[['monthly_invoices']].values)\n",
    "pickle.dump(mm, open('../src/features/monthly_invoices_scaler.pkl', 'wb'))\n",
    "\n",
    "# monthly_revenue\n",
    "df5['monthly_revenue'] = mm.fit_transform(df5[['monthly_revenue']].values)\n",
    "pickle.dump(mm, open('../src/features/monthly_revenue_scaler.pkl', 'wb'))"
   ]
  },
  {
   "cell_type": "markdown",
   "id": "1c82ad53",
   "metadata": {
    "heading_collapsed": true
   },
   "source": [
    "# 6 Seleção das features"
   ]
  },
  {
   "cell_type": "code",
   "execution_count": 34,
   "id": "8df0058d",
   "metadata": {
    "ExecuteTime": {
     "end_time": "2022-01-11T13:31:15.615648Z",
     "start_time": "2022-01-11T13:31:15.601648Z"
    },
    "hidden": true
   },
   "outputs": [
    {
     "data": {
      "text/plain": [
       "Index(['customer_id', 'revenue', 'invoices', 'invoices_return', 'recency',\n",
       "       'avg_recency', 'avg_ticket', 'basket_size', 'vintage',\n",
       "       'monthly_invoices', 'monthly_revenue'],\n",
       "      dtype='object')"
      ]
     },
     "execution_count": 34,
     "metadata": {},
     "output_type": "execute_result"
    }
   ],
   "source": [
    "df5.columns"
   ]
  },
  {
   "cell_type": "code",
   "execution_count": 35,
   "id": "eeb4aa53",
   "metadata": {
    "ExecuteTime": {
     "end_time": "2022-01-11T13:31:15.631649Z",
     "start_time": "2022-01-11T13:31:15.617650Z"
    },
    "hidden": true
   },
   "outputs": [],
   "source": [
    "selected_features = ['customer_id', 'revenue', 'invoices', 'invoices_return', \n",
    "                     'recency', 'avg_recency', 'avg_ticket', 'basket_size', \n",
    "                     'vintage', 'monthly_invoices', 'monthly_revenue']\n",
    "df6 = df5[selected_features].copy()"
   ]
  },
  {
   "cell_type": "markdown",
   "id": "82b60a5a",
   "metadata": {
    "heading_collapsed": true,
    "hidden": true
   },
   "source": [
    "## 6.1 UMAP"
   ]
  },
  {
   "cell_type": "code",
   "execution_count": 36,
   "id": "fb410619",
   "metadata": {
    "ExecuteTime": {
     "end_time": "2022-01-11T13:31:15.647652Z",
     "start_time": "2022-01-11T13:31:15.633651Z"
    },
    "hidden": true
   },
   "outputs": [],
   "source": [
    "X = df6.drop(columns = 'customer_id').copy()"
   ]
  },
  {
   "cell_type": "code",
   "execution_count": 37,
   "id": "797dd887",
   "metadata": {
    "ExecuteTime": {
     "end_time": "2022-01-11T13:31:41.627287Z",
     "start_time": "2022-01-11T13:31:15.649654Z"
    },
    "hidden": true
   },
   "outputs": [],
   "source": [
    "reducer = umap.UMAP(random_state = 73)\n",
    "embedding = reducer.fit_transform(X)\n",
    "\n",
    "df_umap = pd.DataFrame(embedding)"
   ]
  },
  {
   "cell_type": "markdown",
   "id": "38ea00e1",
   "metadata": {
    "heading_collapsed": true
   },
   "source": [
    "# 8 Machine learning"
   ]
  },
  {
   "cell_type": "code",
   "execution_count": 38,
   "id": "a4173edc",
   "metadata": {
    "ExecuteTime": {
     "end_time": "2022-01-11T13:31:41.643288Z",
     "start_time": "2022-01-11T13:31:41.628286Z"
    },
    "hidden": true
   },
   "outputs": [],
   "source": [
    "X = df_umap.copy()"
   ]
  },
  {
   "cell_type": "markdown",
   "id": "3c689374",
   "metadata": {
    "heading_collapsed": true,
    "hidden": true
   },
   "source": [
    "## 8.2 Hierarchical Clustering"
   ]
  },
  {
   "cell_type": "code",
   "execution_count": 39,
   "id": "fc3904c0",
   "metadata": {
    "ExecuteTime": {
     "end_time": "2022-01-11T13:31:42.627054Z",
     "start_time": "2022-01-11T13:31:41.646288Z"
    },
    "hidden": true
   },
   "outputs": [
    {
     "name": "stdout",
     "output_type": "stream",
     "text": [
      "SS: 0.5414782166481018\n"
     ]
    }
   ],
   "source": [
    "n_clusters = 10\n",
    "\n",
    "# Model\n",
    "hc_model = hc.linkage(X, 'ward')\n",
    "\n",
    "# Training & redict\n",
    "labels = hc.fcluster(hc_model, n_clusters, criterion = 'maxclust')\n",
    "\n",
    "# Validation\n",
    "print('SS: {}'.format(silhouette_score(X, labels, metric='euclidean')))"
   ]
  },
  {
   "cell_type": "markdown",
   "id": "e2663a9e",
   "metadata": {
    "heading_collapsed": true
   },
   "source": [
    "# 9 Análise do cluster"
   ]
  },
  {
   "cell_type": "markdown",
   "id": "ca865558",
   "metadata": {
    "heading_collapsed": true,
    "hidden": true
   },
   "source": [
    "## 9.2 Recuperar dados originais"
   ]
  },
  {
   "cell_type": "code",
   "execution_count": 40,
   "id": "cff0f32d",
   "metadata": {
    "ExecuteTime": {
     "end_time": "2022-01-11T13:31:42.643055Z",
     "start_time": "2022-01-11T13:31:42.629054Z"
    },
    "hidden": true
   },
   "outputs": [],
   "source": [
    "df9 = df3.copy()\n",
    "df9['cluster'] = labels"
   ]
  },
  {
   "cell_type": "markdown",
   "id": "45861d8b",
   "metadata": {},
   "source": [
    "# 11 Deploy"
   ]
  },
  {
   "cell_type": "code",
   "execution_count": 44,
   "id": "f8e48a63",
   "metadata": {
    "ExecuteTime": {
     "end_time": "2022-01-06T18:40:16.920800Z",
     "start_time": "2022-01-06T18:40:16.907602Z"
    }
   },
   "outputs": [],
   "source": [
    "df11 = df9.copy()"
   ]
  },
  {
   "cell_type": "markdown",
   "id": "0c5fd557",
   "metadata": {
    "heading_collapsed": true
   },
   "source": [
    "## 11.1 Inserir dados no SQLite"
   ]
  },
  {
   "cell_type": "code",
   "execution_count": 45,
   "id": "2fbaf8ba",
   "metadata": {
    "ExecuteTime": {
     "end_time": "2022-01-06T19:08:40.901768Z",
     "start_time": "2022-01-06T19:08:40.793383Z"
    },
    "hidden": true
   },
   "outputs": [],
   "source": [
    "# Conexão com o banco de dados\n",
    "engine = create_engine('sqlite:///../src/data/insider.sqlite', echo = False)\n",
    "\n",
    "# Criar tabela\n",
    "query_create_table_insiders = '''\n",
    "CREATE TABLE insider(\n",
    "    customer_id         INTEGER,\n",
    "    revenue             REAL,\n",
    "    invoices            INTEGER,\n",
    "    invoices_return     INTEGER,\n",
    "    recency             INTEGER,\n",
    "    avg_recency         REAL,\n",
    "    avg_ticket          REAL,\n",
    "    basket_size         REAL,\n",
    "    vintage             INTEGER,\n",
    "    monthly_invoices    REAL,\n",
    "    monthly_revenue     REAL,\n",
    "    cluster             INTEGER\n",
    ")\n",
    "'''\n",
    "conn = engine.connect()\n",
    "conn.execute(query_create_table_insiders)\n",
    "\n",
    "# Inserir dados\n",
    "df11.to_sql('insider', con = conn, if_exists = 'append', index = False)\n",
    "\n",
    "# Fechar conexão\n",
    "conn.close()"
   ]
  },
  {
   "cell_type": "markdown",
   "id": "7c272293",
   "metadata": {},
   "source": [
    "## 11.2 API tester"
   ]
  },
  {
   "cell_type": "code",
   "execution_count": 1,
   "id": "05d85dcc",
   "metadata": {
    "ExecuteTime": {
     "end_time": "2022-01-12T17:36:16.118037Z",
     "start_time": "2022-01-12T17:36:15.193927Z"
    }
   },
   "outputs": [],
   "source": [
    "import json\n",
    "import pandas as pd\n",
    "import requests"
   ]
  },
  {
   "cell_type": "code",
   "execution_count": 2,
   "id": "5dbf2e3c",
   "metadata": {
    "ExecuteTime": {
     "end_time": "2022-01-12T17:36:22.593842Z",
     "start_time": "2022-01-12T17:36:16.120037Z"
    }
   },
   "outputs": [],
   "source": [
    "df = pd.read_csv('../data/raw/Ecommerce.csv', encoding = 'latin-1')\n",
    "data = json.dumps(df.to_dict(orient = 'records'))"
   ]
  },
  {
   "cell_type": "markdown",
   "id": "99838a9c",
   "metadata": {},
   "source": [
    "'Connection aborted.', error(10054, 'An existing connection was forcibly closed by the remote Host')"
   ]
  },
  {
   "cell_type": "code",
   "execution_count": 9,
   "id": "a690b3b2",
   "metadata": {
    "ExecuteTime": {
     "end_time": "2022-01-12T17:31:34.284941Z",
     "start_time": "2022-01-12T17:31:05.787810Z"
    }
   },
   "outputs": [
    {
     "name": "stdout",
     "output_type": "stream",
     "text": [
      "Status code 200\n"
     ]
    }
   ],
   "source": [
    "url = 'http://127.0.0.1:5000/cluster'\n",
    "# url = 'https://rossmann-store-sales.herokuapp.com/predict'\n",
    "header = {'Content-type': 'application/json'}\n",
    "\n",
    "# API call\n",
    "r = requests.post(url, data = data, headers = header)\n",
    "print('Status code {}'.format(r.status_code))"
   ]
  },
  {
   "cell_type": "code",
   "execution_count": 10,
   "id": "9a7fbdb8",
   "metadata": {
    "ExecuteTime": {
     "end_time": "2022-01-12T17:31:40.898821Z",
     "start_time": "2022-01-12T17:31:40.828381Z"
    }
   },
   "outputs": [],
   "source": [
    "d1 = pd.DataFrame(r.json(), columns = r.json()[0].keys())"
   ]
  },
  {
   "cell_type": "code",
   "execution_count": 11,
   "id": "ec50a71e",
   "metadata": {
    "ExecuteTime": {
     "end_time": "2022-01-12T17:31:42.321572Z",
     "start_time": "2022-01-12T17:31:42.299568Z"
    }
   },
   "outputs": [
    {
     "data": {
      "text/html": [
       "<div>\n",
       "<style scoped>\n",
       "    .dataframe tbody tr th:only-of-type {\n",
       "        vertical-align: middle;\n",
       "    }\n",
       "\n",
       "    .dataframe tbody tr th {\n",
       "        vertical-align: top;\n",
       "    }\n",
       "\n",
       "    .dataframe thead th {\n",
       "        text-align: right;\n",
       "    }\n",
       "</style>\n",
       "<table border=\"1\" class=\"dataframe\">\n",
       "  <thead>\n",
       "    <tr style=\"text-align: right;\">\n",
       "      <th></th>\n",
       "      <th>customer_id</th>\n",
       "      <th>revenue</th>\n",
       "      <th>invoices</th>\n",
       "      <th>invoices_return</th>\n",
       "      <th>recency</th>\n",
       "      <th>avg_recency</th>\n",
       "      <th>avg_ticket</th>\n",
       "      <th>basket_size</th>\n",
       "      <th>vintage</th>\n",
       "      <th>monthly_invoices</th>\n",
       "      <th>monthly_revenue</th>\n",
       "      <th>cluster</th>\n",
       "    </tr>\n",
       "  </thead>\n",
       "  <tbody>\n",
       "    <tr>\n",
       "      <th>0</th>\n",
       "      <td>12347</td>\n",
       "      <td>4310.00</td>\n",
       "      <td>7</td>\n",
       "      <td>0</td>\n",
       "      <td>2</td>\n",
       "      <td>52.428571</td>\n",
       "      <td>615.714286</td>\n",
       "      <td>351.142857</td>\n",
       "      <td>13</td>\n",
       "      <td>0.538462</td>\n",
       "      <td>331.538462</td>\n",
       "      <td>4</td>\n",
       "    </tr>\n",
       "    <tr>\n",
       "      <th>1</th>\n",
       "      <td>12348</td>\n",
       "      <td>1437.24</td>\n",
       "      <td>4</td>\n",
       "      <td>0</td>\n",
       "      <td>75</td>\n",
       "      <td>89.500000</td>\n",
       "      <td>359.310000</td>\n",
       "      <td>583.000000</td>\n",
       "      <td>12</td>\n",
       "      <td>0.333333</td>\n",
       "      <td>119.770000</td>\n",
       "      <td>4</td>\n",
       "    </tr>\n",
       "    <tr>\n",
       "      <th>2</th>\n",
       "      <td>12349</td>\n",
       "      <td>1457.55</td>\n",
       "      <td>1</td>\n",
       "      <td>0</td>\n",
       "      <td>18</td>\n",
       "      <td>18.000000</td>\n",
       "      <td>1457.550000</td>\n",
       "      <td>630.000000</td>\n",
       "      <td>1</td>\n",
       "      <td>1.000000</td>\n",
       "      <td>1457.550000</td>\n",
       "      <td>5</td>\n",
       "    </tr>\n",
       "    <tr>\n",
       "      <th>3</th>\n",
       "      <td>12350</td>\n",
       "      <td>294.40</td>\n",
       "      <td>1</td>\n",
       "      <td>0</td>\n",
       "      <td>310</td>\n",
       "      <td>310.000000</td>\n",
       "      <td>294.400000</td>\n",
       "      <td>196.000000</td>\n",
       "      <td>11</td>\n",
       "      <td>0.090909</td>\n",
       "      <td>26.763636</td>\n",
       "      <td>8</td>\n",
       "    </tr>\n",
       "    <tr>\n",
       "      <th>4</th>\n",
       "      <td>12352</td>\n",
       "      <td>1385.74</td>\n",
       "      <td>7</td>\n",
       "      <td>1</td>\n",
       "      <td>36</td>\n",
       "      <td>42.285714</td>\n",
       "      <td>197.962857</td>\n",
       "      <td>75.142857</td>\n",
       "      <td>10</td>\n",
       "      <td>0.700000</td>\n",
       "      <td>138.574000</td>\n",
       "      <td>2</td>\n",
       "    </tr>\n",
       "  </tbody>\n",
       "</table>\n",
       "</div>"
      ],
      "text/plain": [
       "   customer_id  revenue  invoices  invoices_return  recency  avg_recency  \\\n",
       "0        12347  4310.00         7                0        2    52.428571   \n",
       "1        12348  1437.24         4                0       75    89.500000   \n",
       "2        12349  1457.55         1                0       18    18.000000   \n",
       "3        12350   294.40         1                0      310   310.000000   \n",
       "4        12352  1385.74         7                1       36    42.285714   \n",
       "\n",
       "    avg_ticket  basket_size  vintage  monthly_invoices  monthly_revenue  \\\n",
       "0   615.714286   351.142857       13          0.538462       331.538462   \n",
       "1   359.310000   583.000000       12          0.333333       119.770000   \n",
       "2  1457.550000   630.000000        1          1.000000      1457.550000   \n",
       "3   294.400000   196.000000       11          0.090909        26.763636   \n",
       "4   197.962857    75.142857       10          0.700000       138.574000   \n",
       "\n",
       "   cluster  \n",
       "0        4  \n",
       "1        4  \n",
       "2        5  \n",
       "3        8  \n",
       "4        2  "
      ]
     },
     "execution_count": 11,
     "metadata": {},
     "output_type": "execute_result"
    }
   ],
   "source": [
    "d1.head()"
   ]
  },
  {
   "cell_type": "code",
   "execution_count": null,
   "id": "24898a51",
   "metadata": {},
   "outputs": [],
   "source": []
  }
 ],
 "metadata": {
  "kernelspec": {
   "display_name": "Python 3 (ipykernel)",
   "language": "python",
   "name": "python3"
  },
  "language_info": {
   "codemirror_mode": {
    "name": "ipython",
    "version": 3
   },
   "file_extension": ".py",
   "mimetype": "text/x-python",
   "name": "python",
   "nbconvert_exporter": "python",
   "pygments_lexer": "ipython3",
   "version": "3.9.7"
  }
 },
 "nbformat": 4,
 "nbformat_minor": 5
}
